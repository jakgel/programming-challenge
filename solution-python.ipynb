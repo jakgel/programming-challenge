{
 "cells": [
  {
   "cell_type": "markdown",
   "metadata": {},
   "source": [
    "# Exxcellent solutions programming challenge\n",
    "\n",
    "## challenge-weatherdata\n",
    "First we inspect what tasks our challenge consists of. We will design a code that will also be usable for the latter football challenge\n",
    "1. Read the .csv file in internal format\n",
    "- Access and compare internal values\n",
    "- Print results\n",
    "\n",
    "Specificaly in both examples the goal is to find the minimal difference of two column entries.\n",
    "\n",
    "### python\n",
    "First I choose a language I am accustomed with and because it is a small task that I should be able to programm in one go. The idea is to create a working example and think of some test cases.\n",
    "\n",
    "The design goals are:\n",
    "- robustness & correctness\n",
    "- readability & maintainability\n",
    "- clean software design & architecture\n",
    "\n",
    "over speed, which is why I choose to work with the pandas library which is widespread in use and well maintained. This alleviates the need to write a functionality from scratch that parses our .csv, which are in fact a okish standarized format.\n",
    "\n",
    "First we import the needed modules. And checl if the existing paths exist"
   ]
  },
  {
   "cell_type": "code",
   "execution_count": 5,
   "metadata": {},
   "outputs": [
    {
     "name": "stdout",
     "output_type": "stream",
     "text": [
      "<class 'pandas.core.frame.DataFrame'>\n",
      "RangeIndex: 30 entries, 0 to 29\n",
      "Data columns (total 14 columns):\n",
      "Day           30 non-null int64\n",
      "MxT           30 non-null int64\n",
      "MnT           30 non-null int64\n",
      "AvT           30 non-null int64\n",
      "AvDP          30 non-null float64\n",
      "1HrP TPcpn    30 non-null int64\n",
      "PDir          30 non-null int64\n",
      "AvSp          30 non-null float64\n",
      "Dir           30 non-null int64\n",
      "MxS           30 non-null int64\n",
      "SkyC          30 non-null float64\n",
      "MxR           30 non-null int64\n",
      "Mn            30 non-null int64\n",
      "R AvSLP       30 non-null float64\n",
      "dtypes: float64(4), int64(10)\n",
      "memory usage: 3.4 KB\n",
      "None\n"
     ]
    }
   ],
   "source": [
    "import numpy  as np\n",
    "import pandas as pd\n",
    "\n",
    "relative = 'src/main/resources/de/exxcellent/challenge/'\n",
    "fn       = 'weather.csv' #football.csv\n",
    "\n",
    "df = pd.read_csv(relative+fn)\n",
    "print(df.info())"
   ]
  },
  {
   "cell_type": "markdown",
   "metadata": {},
   "source": [
    "This worked quite well, considering that the file format could have been based on different delimiters etc. \n",
    "\n",
    "We see that this specific data file contains 14 columns. For our generall purpose however, we wount care about the specific number of columns and rows. We now use some of the custom pandas functions to create a new custom atribute 'difference' on the fly to find the rows (plural) with the lowest difference of in our case 'MxT' and 'MnT'. \n",
    "\n",
    "As we do not know how this format might change in the future it is much more sensible to access the columns by their identifiers rather than by their column ids."
   ]
  },
  {
   "cell_type": "code",
   "execution_count": 45,
   "metadata": {},
   "outputs": [
    {
     "name": "stdout",
     "output_type": "stream",
     "text": [
      "    MxT  MnT  difftest\n",
      "0    88   59        29\n",
      "1    79   63        16\n",
      "2    77   55        22\n",
      "3    77   59        18\n",
      "4    90   66        24\n",
      "5    81   61        20\n",
      "6    73   57        16\n",
      "7    75   54        21\n",
      "8    86   32        54\n",
      "9    84   64        20\n",
      "10   91   59        32\n",
      "11   88   73        15\n",
      "12   70   59        11\n",
      "13   61   59         2\n",
      "14   64   55         9\n",
      "15   79   59        20\n",
      "16   81   57        24\n",
      "17   82   52        30\n",
      "18   81   61        20\n",
      "19   84   57        27\n",
      "20   86   59        27\n",
      "21   90   64        26\n",
      "22   90   68        22\n",
      "23   90   77        13\n",
      "24   90   72        18\n",
      "25   97   64        33\n",
      "26   91   72        19\n",
      "27   84   68        16\n",
      "28   88   66        22\n",
      "29   90   45        45 \n",
      "\n",
      "Row id of minimal temperature spread:\n"
     ]
    },
    {
     "data": {
      "text/plain": [
       "13"
      ]
     },
     "execution_count": 45,
     "metadata": {},
     "output_type": "execute_result"
    }
   ],
   "source": [
    "#Testing, create a custom column test\n",
    "df['difftest'] = df['MxT']-df['MnT']\n",
    "print(df.reset_index()[['MxT', 'MnT', 'difftest']],'\\n')\n",
    "\n",
    "print( 'Row id of minimal temperature spread:')\n",
    "(df['MxT'] - df['MnT']).idxmin()"
   ]
  },
  {
   "cell_type": "markdown",
   "metadata": {},
   "source": [
    "Because the file is so small we can see by eye, that row 13 hosts the entries with the minimal temperature difference.  As we do not want the column but the day we can rewrite the function"
   ]
  },
  {
   "cell_type": "code",
   "execution_count": 59,
   "metadata": {},
   "outputs": [
    {
     "name": "stdout",
     "output_type": "stream",
     "text": [
      "Day of minimal temperature spread is:\n",
      "<class 'pandas.core.series.Series'>\n"
     ]
    }
   ],
   "source": [
    "print( 'Day of minimal temperature spread is:')\n",
    "df.iloc[(df['difftest']).idxmin]['Day']\n",
    "\n",
    "print(type(df.iloc[(df['difftest']).idxmin()]))"
   ]
  },
  {
   "cell_type": "markdown",
   "metadata": {},
   "source": [
    "df.iloc[(df['difftest']).idxmin()]) itself is a panda series object, which is why we can acces its day by ['Day'] (also bay aware of the capitalization) that I forgot in the first access.\n",
    "\n",
    "However, this is beginners data since, how do we now create a running function so that we can also investigate other datasets quite easily?"
   ]
  },
  {
   "cell_type": "code",
   "execution_count": 80,
   "metadata": {},
   "outputs": [],
   "source": [
    "class table_dataset():\n",
    "\n",
    "    def __init__(self,filename,\n",
    "                 filepath='src/main/resources/de/exxcellent/challenge/'):\n",
    "     \n",
    "        self.filename = filename\n",
    "        self.filepath = filepath\n",
    "        self.setpath()\n",
    "        self.loadfile()\n",
    "        \n",
    "    def setpath(self):\n",
    "        ''' Combines paths, could also be written as a decorator.\n",
    "        '''\n",
    "\n",
    "        path = ''\n",
    "        for string in [self.filepath,self.filename]:\n",
    "            if string is None:\n",
    "                string = ''\n",
    "            path += string\n",
    "\n",
    "        self.path = path\n",
    "        return path\n",
    "    \n",
    "    \n",
    "    def loadfile(self, format='.csv'):\n",
    "        self.df = pd.read_csv(self.path)\n",
    "    \n",
    "    def findmin(self, ident,colA,colB):\n",
    "        ''' Input:\n",
    "                ident: identifier that is returend\n",
    "                 colA: Minuend \n",
    "                 colB: Subtrahend\n",
    "            Return:\n",
    "                The identifier that exists in the row with the minimum difference.\n",
    "        \n",
    "            Here we prefer to compare values on the fly. \n",
    "            We could of cource also modify the table and provide an additional attrivute like \n",
    "            \"difference\" ... because we do not know if this would overwrite an already existing\n",
    "            attribute we foresee to do that \n",
    "        '''\n",
    "        \n",
    "        try:\n",
    "            return self.df.iloc[(self.df[colA] - self.df[colB]).idxmin][ident]\n",
    "        except:\n",
    "            print('__ Issues in table_dataset::findmin', self.df.info())\n",
    "        \n",
    "        "
   ]
  },
  {
   "cell_type": "markdown",
   "metadata": {},
   "source": [
    "First I created the python class and then some test examples.\n",
    "\n"
   ]
  },
  {
   "cell_type": "code",
   "execution_count": 84,
   "metadata": {},
   "outputs": [
    {
     "name": "stdout",
     "output_type": "stream",
     "text": [
      "<class 'pandas.core.frame.DataFrame'>\n",
      "RangeIndex: 20 entries, 0 to 19\n",
      "Data columns (total 8 columns):\n",
      "Team             20 non-null object\n",
      "Games            20 non-null int64\n",
      "Wins             20 non-null int64\n",
      "Losses           20 non-null int64\n",
      "Draws            20 non-null int64\n",
      "Goals            20 non-null int64\n",
      "Goals Allowed    20 non-null int64\n",
      "Points           20 non-null int64\n",
      "dtypes: int64(7), object(1)\n",
      "memory usage: 1.3+ KB\n",
      "__ Issues in table_dataset::findmin None\n",
      "14.0\n",
      "Leicester\n",
      "Test completed\n"
     ]
    }
   ],
   "source": [
    "def test(verbose=False):\n",
    "    test1 = table_dataset('weather.csv').findmin('Day','MxT','MnT')\n",
    "    test2 = table_dataset('football.csv').findmin('Team','Goals','Goals Allowed')\n",
    "    test3 = table_dataset('football.csv').findmin('Team','Goals Allowed','Goals ')  \n",
    "    # test3 Will print __ Issues in table_dataset::findmin None\n",
    "    \n",
    "    if verbose:\n",
    "        print(test1)\n",
    "        print(test2)\n",
    "        print('Test completed')\n",
    "    \n",
    "test(True)    "
   ]
  },
  {
   "cell_type": "markdown",
   "metadata": {},
   "source": [
    "Looks fine.\n",
    "\n",
    "In this particular example we didn't had to refactor our code as we realited quite from the start that we could wrap it in one code if we would provide the functionality to read the path from and the functionality to choose the elements which were to be minimized.\n",
    "\n",
    "We could add some additional functionalities, like checking if the order of minuend and subtrahend is correct but because this requires additional assumptions, we leave this to be."
   ]
  }
 ],
 "metadata": {
  "kernelspec": {
   "display_name": "Python 3",
   "language": "python",
   "name": "python3"
  },
  "language_info": {
   "codemirror_mode": {
    "name": "ipython",
    "version": 3
   },
   "file_extension": ".py",
   "mimetype": "text/x-python",
   "name": "python",
   "nbconvert_exporter": "python",
   "pygments_lexer": "ipython3",
   "version": "3.6.5"
  }
 },
 "nbformat": 4,
 "nbformat_minor": 2
}
